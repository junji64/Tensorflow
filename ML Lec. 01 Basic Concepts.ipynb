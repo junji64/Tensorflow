{
 "cells": [
  {
   "cell_type": "markdown",
   "metadata": {},
   "source": [
    "# Basic Concept : Machine Learning\n",
    "\n",
    "* What is Machine Learning?\n",
    "* What is learning?\n",
    "  - supervised\n",
    "  - unsupervised\n",
    "* What is Regression?\n",
    "* What is classification?"
   ]
  },
  {
   "cell_type": "markdown",
   "metadata": {},
   "source": [
    "### Machine Learning\n",
    "\n",
    "* Limitations of explicit programming\n",
    "  - e.g. Spam filter : many rules !\n",
    "  - e.g. Automatic driving : too many rules !\n",
    "  \n",
    "* Machine Learing : \" Field of study that gives computers the ability to learn without being explicitly programmed\" by [Authur Samuel](https://en.wikipedia.org/wiki/Arthur_Samuel) (1959)\n",
    "\n",
    "\n",
    "\n",
    "* Supervised learning : learning with labeled examples (training set)\n",
    "<img src=\"http://cs231n.github.io/assets/trainset.jpg\" width=500 alt=\"http://cs231n.github.io/classification\" >\n",
    "\n",
    "_from \"http://cs231n.github.io/classification\"_\n",
    "                                                     \n",
    "* Unsupervised learning : learning with un-labeled data\n",
    "  - Google News grouping\n",
    "  - Word clustering\n",
    "  \n",
    "### Supervised Learning\n",
    "* Most common problem type in ML\n",
    "  - Image Labeling : learning from tagged images\n",
    "  - Email spam filter : learning from labeled (spam or ham) email\n",
    "  - Predicting exam score : learning from previous exam score and time spent\n",
    "  \n",
    "  \n",
    "### Types of supervised learning\n",
    "* Regression : e.g. Prediction final exam score based on time spent\n",
    "\n",
    "| x (Hours)  | y (score) |\n",
    "|    :---:   |   :---:   |\n",
    "|    10      |     90    |\n",
    "|     9      |     80    |\n",
    "|     3      |     50    |\n",
    "|     2      |     30    |\n",
    "\n",
    "* Binary Classification : e.g. Pass/non-Pass based on time spent to study\n",
    "\n",
    "| x (Hours)  | y (P/F)  |\n",
    "|    :---:   |   :---:  |\n",
    "|    10      |     P    |\n",
    "|     9      |     P    |\n",
    "|     3      |     F    |\n",
    "|     2      |     F    |\n",
    "* Multi-label classification : e.g. Letter grade (A, B, C, D and F ) based on time spent to study.\n",
    "\n",
    "| x (Hours)  | y (grade) |\n",
    "|    :---:   |   :---:   |\n",
    "|    10      |     A    |\n",
    "|     9      |     B    |\n",
    "|     3      |     D    |\n",
    "|     2      |     F    |"
   ]
  },
  {
   "cell_type": "code",
   "execution_count": null,
   "metadata": {
    "collapsed": true
   },
   "outputs": [],
   "source": []
  }
 ],
 "metadata": {
  "kernelspec": {
   "display_name": "Python 3",
   "language": "python",
   "name": "python3"
  },
  "language_info": {
   "codemirror_mode": {
    "name": "ipython",
    "version": 3
   },
   "file_extension": ".py",
   "mimetype": "text/x-python",
   "name": "python",
   "nbconvert_exporter": "python",
   "pygments_lexer": "ipython3",
   "version": "3.6.4"
  }
 },
 "nbformat": 4,
 "nbformat_minor": 2
}
