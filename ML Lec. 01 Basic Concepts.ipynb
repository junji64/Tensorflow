{
 "cells": [
  {
   "cell_type": "markdown",
   "metadata": {},
   "source": [
    "# Basic Concept : Machine Learning\n",
    "\n",
    "* What is Machine Learning?\n",
    "* What is learning?\n",
    "  - supervised\n",
    "  - unsupervised\n",
    "* What is Regression?\n",
    "* What is classification?"
   ]
  },
  {
   "cell_type": "markdown",
   "metadata": {},
   "source": [
    "### Machine Learning\n",
    "\n",
    "* Limitations of explicit programming\n",
    "  - e.g. Spam filter : many rules !\n",
    "  - e.g. Automatic driving : too many rules !\n",
    "  \n",
    "* Machine Learing : \" Field of study that gives computers the ability to learn without being explicitly programmed\" by [Authur Samuel](https://en.wikipedia.org/wiki/Arthur_Samuel) (1959)\n",
    "\n",
    "\n",
    "\n",
    "* Supervised learning : learning with labeled examples (training set)\n",
    "<img src=\"http://cs231n.github.io/assets/trainset.jpg\" width=500 alt=\"http://cs231n.github.io/classification\" >\n",
    "\n",
    "_from \"http://cs231n.github.io/classification\"_\n",
    "                                                     \n",
    "* Unsupervised learning : learning with un-labeled data\n",
    "  - Google News grouping\n",
    "  - Word clustering\n",
    "  \n",
    "### Supervised Learning\n",
    "* Most common problem type in ML\n",
    "  - Image Labeling : learning from tagged images\n",
    "  - Email spam filter : learning from labeled (spam or ham) email\n",
    "  - Predicting exam score : learning from previous exam score and time spent\n",
    "  \n",
    "  \n",
    "### Types of supervised learning\n",
    "* Regression : e.g. Prediction final exam score based on time spent\n",
    "\n",
    "| x (Hours)  | y (score) |\n",
    "|    :---:   |   :---:   |\n",
    "|    10      |     90    |\n",
    "|     9      |     80    |\n",
    "|     3      |     50    |\n",
    "|     2      |     30    |\n",
    "\n",
    "* Binary Classification : e.g. Pass/non-Pass based on time spent to study\n",
    "\n",
    "| x (Hours)  | y (P/F)  |\n",
    "|    :---:   |   :---:  |\n",
    "|    10      |     P    |\n",
    "|     9      |     P    |\n",
    "|     3      |     F    |\n",
    "|     2      |     F    |\n",
    "* Multi-label classification : e.g. Letter grade (A, B, C, D and F ) based on time spent to study.\n",
    "\n",
    "| x (Hours)  | y (grade) |\n",
    "|    :---:   |   :---:   |\n",
    "|    10      |     A    |\n",
    "|     9      |     B    |\n",
    "|     3      |     D    |\n",
    "|     2      |     F    |"
   ]
  },
  {
   "cell_type": "markdown",
   "metadata": {
    "collapsed": true
   },
   "source": [
    "## ML Lab 01 - TensorFlow Basic\n",
    "\n",
    "<img src=\"https://cdn-images-1.medium.com/max/1600/1*s_BwkYxpGv34vjOHi8tDzg.png\" width=400>\n",
    "\n",
    "*From https://towardsdatascience.com/deep-learning-framework-power-scores-2018-23607ddf297a*\n",
    "\n",
    "\n",
    "<a href=\"https://www.tensorflow.org/\">\n",
    "<img src=\"https://upload.wikimedia.org/wikipedia/commons/thumb/1/11/TensorFlowLogo.svg/330px-TensorFlowLogo.svg.png\" width=\"200\">\n",
    "</a>\n",
    "\n",
    "* TensorFlow is an open source software library for numerical computation using data flow graphs.\n",
    "* Python !"
   ]
  },
  {
   "cell_type": "markdown",
   "metadata": {},
   "source": [
    "### What is a Data Flow Graph?\n",
    "\n",
    "* **Nodes** in the graph represent mathematical operations\n",
    "* **Edges** represent the multidimensional data arrays (tensors) communicated between them\n",
    "\n",
    "<img src=\"https://www.tensorflow.org/images/tensors_flowing.gif\">\n",
    "\n",
    "### Installing TensorFlow\n",
    "* Install Python first !\n",
    "* Windows (or Linux, Max OSX)\n",
    "  - pip install --upgrade tensorflow\n",
    "  - pip install --upgrade tensorflow-gpu\n",
    "* Check installation and version\n",
    "  - do as follows after start python"
   ]
  },
  {
   "cell_type": "code",
   "execution_count": 1,
   "metadata": {
    "collapsed": false
   },
   "outputs": [
    {
     "data": {
      "text/plain": [
       "'1.3.0'"
      ]
     },
     "execution_count": 1,
     "metadata": {},
     "output_type": "execute_result"
    }
   ],
   "source": [
    "import tensorflow as tf\n",
    "tf.__version__"
   ]
  },
  {
   "cell_type": "markdown",
   "metadata": {},
   "source": [
    "## TensorFlow Hello World!"
   ]
  },
  {
   "cell_type": "code",
   "execution_count": 2,
   "metadata": {
    "collapsed": false
   },
   "outputs": [
    {
     "name": "stdout",
     "output_type": "stream",
     "text": [
      "b'Hello, TensorFlow!'\n"
     ]
    }
   ],
   "source": [
    "# Create a constant op\n",
    "# This op is added as a node to the default graph\n",
    "hello = tf.constant(\"Hello, TensorFlow!\")\n",
    "\n",
    "# start a TF session\n",
    "sess = tf.Session()\n",
    "\n",
    "# run the op and get result\n",
    "print(sess.run(hello))"
   ]
  },
  {
   "cell_type": "markdown",
   "metadata": {},
   "source": [
    "where b'String' ==> 'b' indicates Bytes literals."
   ]
  },
  {
   "cell_type": "markdown",
   "metadata": {},
   "source": [
    "### Computational Graph|"
   ]
  },
  {
   "cell_type": "code",
   "execution_count": 3,
   "metadata": {
    "collapsed": false
   },
   "outputs": [
    {
     "name": "stdout",
     "output_type": "stream",
     "text": [
      "node1: Tensor(\"Const_1:0\", shape=(), dtype=float32) node2: Tensor(\"Const_2:0\", shape=(), dtype=float32)\n",
      "node3: Tensor(\"Add:0\", shape=(), dtype=float32)\n"
     ]
    }
   ],
   "source": [
    "node1 = tf.constant(3.0, tf.float32)\n",
    "node2 = tf.constant(4.0)\n",
    "node3 = tf.add(node1, node2)\n",
    "\n",
    "print(\"node1:\", node1, \"node2:\", node2)\n",
    "print(\"node3:\", node3)"
   ]
  },
  {
   "cell_type": "code",
   "execution_count": 4,
   "metadata": {
    "collapsed": false
   },
   "outputs": [
    {
     "name": "stdout",
     "output_type": "stream",
     "text": [
      "sess.run(node1, node2): [3.0, 4.0]\n",
      "sess.run(node3): 7.0\n"
     ]
    }
   ],
   "source": [
    "sess = tf.Session()\n",
    "print(\"sess.run(node1, node2):\", sess.run([node1,node2]))\n",
    "print(\"sess.run(node3):\", sess.run(node3))"
   ]
  },
  {
   "cell_type": "markdown",
   "metadata": {},
   "source": [
    "<img src=\"https://lh3.googleusercontent.com/TzSP8O9Aaj-PSo1Z0TVSk498uRlhf7AxONh0LirK2VdxtvNYHkKmVDXL8SJJwSeW7NRGnnLR5w=s0\" width=500>\n",
    "*src https://www.mathwarehouse.com*"
   ]
  },
  {
   "cell_type": "markdown",
   "metadata": {},
   "source": [
    "(1) Build graph (tensors) using TensorFlow operations"
   ]
  },
  {
   "cell_type": "code",
   "execution_count": 5,
   "metadata": {
    "collapsed": true
   },
   "outputs": [],
   "source": [
    "node1 = tf.constant(3.0, tf.float32)\n",
    "node2 = tf.constant(4.0)\n",
    "node3 = tf.add(node1, node2)"
   ]
  },
  {
   "cell_type": "markdown",
   "metadata": {},
   "source": [
    "(2) feed data and run graph (operation) -- **sess.run(op)**\n",
    "\n",
    "(3) update variables in the graph (and return values)"
   ]
  },
  {
   "cell_type": "code",
   "execution_count": 6,
   "metadata": {
    "collapsed": false
   },
   "outputs": [
    {
     "name": "stdout",
     "output_type": "stream",
     "text": [
      "sess.run(node1, node2): [3.0, 4.0]\n",
      "sess.run(node3): 7.0\n"
     ]
    }
   ],
   "source": [
    "sess = tf.Session()\n",
    "print(\"sess.run(node1, node2):\", sess.run([node1,node2]))\n",
    "print(\"sess.run(node3):\", sess.run(node3))"
   ]
  },
  {
   "cell_type": "markdown",
   "metadata": {},
   "source": [
    "### Using a Placeholder"
   ]
  },
  {
   "cell_type": "code",
   "execution_count": 7,
   "metadata": {
    "collapsed": false
   },
   "outputs": [
    {
     "name": "stdout",
     "output_type": "stream",
     "text": [
      "7.5\n",
      "[3. 7.]\n"
     ]
    }
   ],
   "source": [
    "a = tf.placeholder(tf.float32)\n",
    "b = tf.placeholder(tf.float32)\n",
    "adder_node = a + b\n",
    "\n",
    "print(sess.run(adder_node, feed_dict={a: 3, b: 4.5}))\n",
    "print(sess.run(adder_node, feed_dict={a: [1, 3], b: [2, 4]}))"
   ]
  },
  {
   "cell_type": "markdown",
   "metadata": {},
   "source": [
    "<img src=\"https://pikanpie.files.wordpress.com/2018/01/screen-shot-2018-01-13-at-9-41-59-pm.png?w=809\" width=\"500\">\n",
    "\n",
    "### Everything is Tensor"
   ]
  },
  {
   "cell_type": "code",
   "execution_count": 8,
   "metadata": {
    "collapsed": false
   },
   "outputs": [
    {
     "data": {
      "text/plain": [
       "[[[1.0, 2.0, 3.0]], [[7.0, 8.0, 9.0]]]"
      ]
     },
     "execution_count": 8,
     "metadata": {},
     "output_type": "execute_result"
    }
   ],
   "source": [
    "3                                # a rank 0 tensor; a scalar with shape []\n",
    "[1., 2., 3.]                     # a rank 1 tensor; a vector with shape [3]\n",
    "[[1., 2., 3.], [4., 5., 6.]]     # a rank 2 tensor; a matric with shape [2,3]\n",
    "[[[1., 2., 3.]],[[7., 8., 9.]]]  # a rank 3 tensor with shape [2,1,3]"
   ]
  },
  {
   "cell_type": "markdown",
   "metadata": {},
   "source": [
    "#### Tensor Ranks, Shapes, and Types\n",
    "\n",
    "| Rank  | Shape | Dimension number | Example |\n",
    "|  :---: | :--- | :--- | :---|\n",
    "|   0  |  []  | 0-D | a 0-D tensor, A scalar |\n",
    "|   1  |  [D0]  | 1-D | a 2-D tensor with a shape [5] |\n",
    "|   2  |  [D0,D1]  | 2-D | a 2-D tensor with a shape [3,4] |\n",
    "|   3  |  [D0,D1,D2]  | 3-D | a 3-D tensor with a shape [1, 4, 3] |\n",
    "|   n  |  [D0,D1,...,Dn-1]  | n-D | a n-D tensor with a shape [D0, D1, ..., Dn-1] |\n",
    "\n",
    "\n",
    "| Data type  | Python type | Description |\n",
    "|  :---: | :--- | :--- | :---|\n",
    "|  DT_FLOAT  | tf.float32 | 32 bits floating point |\n",
    "|  DT_DOUBLE  | tf.float64 | 64 bits floating point |\n",
    "|  DT_INT8  | tf.int8 | 8 bits signed integer  |\n",
    "|  DT_INT16  | tf.int16 | 16 bits signed integer  |\n",
    "|  DT_INT32  | tf.int32 | 32 bits signed integer  |\n",
    "|  DT_INT64  | tf.int64 | 8 bits signed integer  |\n"
   ]
  }
 ],
 "metadata": {
  "kernelspec": {
   "display_name": "Python 3",
   "language": "python",
   "name": "python3"
  },
  "language_info": {
   "codemirror_mode": {
    "name": "ipython",
    "version": 3
   },
   "file_extension": ".py",
   "mimetype": "text/x-python",
   "name": "python",
   "nbconvert_exporter": "python",
   "pygments_lexer": "ipython3",
   "version": "3.6.4"
  }
 },
 "nbformat": 4,
 "nbformat_minor": 2
}
