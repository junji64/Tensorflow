{
 "cells": [
  {
   "cell_type": "markdown",
   "metadata": {
    "collapsed": true
   },
   "source": [
    "## Ultimate goal : Thinking Machine\n",
    "\n",
    "### Where to start : Biological Neuron\n",
    "\n",
    "<img src=\"https://www.simplilearn.com/ice9/free_resources_article_thumb/diagram-of-a-biological-neuron.jpg\" width=\"500\">\n",
    "\n",
    "### Mathematical neuron model \n",
    "<img src=\"http://bit.ly/2ldH0Bg\" width=\"450\">\n",
    "\n",
    "### Logistic regression units.\n",
    "\n",
    "<img src=\"./logistic-units.png\" width=\"300\">"
   ]
  },
  {
   "cell_type": "markdown",
   "metadata": {},
   "source": [
    "### Hardware implementations\n",
    "Frank Rosenblatt, 1957: Mark 1 perceptron\n",
    "<img src=\"https://upload.wikimedia.org/wikipedia/en/thumb/5/52/Mark_I_perceptron.jpeg/220px-Mark_I_perceptron.jpeg\" width=\"200\">\n",
    "\n",
    "### False Promises\n",
    "“The Navy revealed the embryo of an electronic computer today that it expects will be able to walk, talk, see, write, reproduce itself an be conscious of its existence … Dr. Frank Rosenblatt, a research psychologist at the Cornell Aeronautical Laboratory, Buffalo, said Perceptrons might be fired to the planets as mechanical space explorers”- New York Times; July 08, 1958\n"
   ]
  },
  {
   "cell_type": "markdown",
   "metadata": {},
   "source": [
    "### XOR problem: linearly separable?\n",
    "\n",
    "<img src=\"https://qph.fs.quoracdn.net/main-qimg-a6c557af4280d1f85cacc66e048e82f3\">\n",
    "\n",
    "### MLP can solve XOR problem\n",
    "<img src=\"MLP.png\" width=\"450\">\n",
    "\n",
    "### Perceptrons(1969)\n",
    "* We need to use MLP, multilayer perceptrons\n",
    "* No on on earth had found a viable way to train MLPs good enough to learn such simple functions.\n",
    "\n",
    "### 1st Winter(1969) \n",
    "\"No on on earth had found a viable way to train...\" (Marvin Minsky 1969)\n",
    "\n",
    "### Backpropagation(1986) \n",
    "(1974, 1982 by Paul Werbos, 1986 by Hinton)\n",
    "<img src=\"https://i.stack.imgur.com/H1KsG.png\" width=\"400\">\n",
    "\n",
    "### CNN (Convolutional Neural Network)\n",
    "(motivated by biological insights)\n",
    "\n",
    "<img src=\"https://1569708099.rsc.cdn77.org/wp-content/uploads/2017/09/lenet-5-825x285.png?x31195\">\n",
    "\n",
    "### BIG Problem\n",
    "* Backpropagation just did not work well for normal neural nets with many layers\n",
    "* Other rising machine learning algorithms : SVM, RandomForest, etc.\n",
    "\n",
    "\n",
    "### 2nd Winter(1995)\n",
    "* Yann LeCun, 1995 Paper \"Comparison of Learning Algorithm For Handwritten Digit Recognition\"\n",
    "\"New Machine Learning approach  worked better\"\n",
    "\n",
    "### Breakthrouth(2006,2007) by Hinton and Bengio\n",
    "* Neural networks with many layers really could be trained well, if the weights are initialized in a clever way rather than randomly. (By Hinton)\n",
    "* Deep machine learning methods (that is, methods with many processing steps, or equivalently with hierarchical feature representations of the data) are more efficient for difficult problems than shallow methods (which two-layer ANNs or support vector machines are examples of). (By Benzio)\n",
    "\n",
    "### Deep Learning =\n",
    "Lots of training data + Parallel Computation + Scalable, smart algorithms\n",
    "\n",
    "<img src=\"http://3.bp.blogspot.com/-zQlQvmK9U9g/VT_Hk6yKlmI/AAAAAAAAODQ/nNNcpVM4UPM/s1600/bg_pipeline-01.png\">"
   ]
  },
  {
   "cell_type": "code",
   "execution_count": null,
   "metadata": {
    "collapsed": true
   },
   "outputs": [],
   "source": []
  }
 ],
 "metadata": {
  "kernelspec": {
   "display_name": "Python 3",
   "language": "python",
   "name": "python3"
  },
  "language_info": {
   "codemirror_mode": {
    "name": "ipython",
    "version": 3
   },
   "file_extension": ".py",
   "mimetype": "text/x-python",
   "name": "python",
   "nbconvert_exporter": "python",
   "pygments_lexer": "ipython3",
   "version": "3.6.4"
  }
 },
 "nbformat": 4,
 "nbformat_minor": 2
}
